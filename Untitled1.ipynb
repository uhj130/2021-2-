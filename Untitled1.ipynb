{
  "nbformat": 4,
  "nbformat_minor": 0,
  "metadata": {
    "colab": {
      "provenance": [],
      "collapsed_sections": [],
      "authorship_tag": "ABX9TyPMNv83NASGoPG2VCqcWKZE",
      "include_colab_link": true
    },
    "kernelspec": {
      "name": "python3",
      "display_name": "Python 3"
    },
    "language_info": {
      "name": "python"
    }
  },
  "cells": [
    {
      "cell_type": "markdown",
      "metadata": {
        "id": "view-in-github",
        "colab_type": "text"
      },
      "source": [
        "<a href=\"https://colab.research.google.com/github/uhj130/2021-2-System-programming-gicho/blob/main/Untitled1.ipynb\" target=\"_parent\"><img src=\"https://colab.research.google.com/assets/colab-badge.svg\" alt=\"Open In Colab\"/></a>"
      ]
    },
    {
      "cell_type": "code",
      "execution_count": 112,
      "metadata": {
        "colab": {
          "base_uri": "https://localhost:8080/",
          "height": 350
        },
        "id": "hBviolR6ma1_",
        "outputId": "e28e64de-0967-4916-a6d3-4b22ea210b6d"
      },
      "outputs": [
        {
          "output_type": "display_data",
          "data": {
            "text/plain": [
              "<Figure size 504x360 with 1 Axes>"
            ],
            "image/png": "[encoded data removed]"
          },
          "metadata": {
            "needs_background": "light"
          }
        }
      ],
      "source": [
        "import random\n",
        "import numpy as np\n",
        "import matplotlib.pyplot as plt\n",
        "\n",
        "listy = []\n",
        "listx = []\n",
        "\n",
        "\n",
        "def prob():\n",
        " front = 0\n",
        " c = 1\n",
        " while c<1001:\n",
        "  result = random.randrange(0,2)\n",
        "  if(result == 1):\n",
        "     front += 1\n",
        "     listy.append(front/c)\n",
        "  else:\n",
        "     listy.append(front/c)\n",
        "  listx.append(c)\n",
        "  c += 1\n",
        "\n",
        " return (front/1000)\n",
        "\n",
        "\n",
        "\n",
        "s = prob()\n",
        "listy2 = listy\n",
        "s = listy[999]\n",
        "plt.plot(listx,listy)\n",
        "plt.scatter(listx,listy, s=7)\n",
        "plt.ylim(0,1)\n",
        "plt.xlabel('Times')\n",
        "plt.ylabel('prob')\n",
        "plt.rcParams['figure.figsize'] = [7, 5]\n",
        "plt.title('Coin : p(H) =%.3f'%s)\n",
        "plt.show()\n",
        "\n",
        "\n"
      ]
    }
  ]
}